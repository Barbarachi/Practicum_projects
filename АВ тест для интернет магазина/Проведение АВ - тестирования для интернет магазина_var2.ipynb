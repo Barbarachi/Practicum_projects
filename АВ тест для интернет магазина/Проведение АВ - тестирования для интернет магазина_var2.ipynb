{
 "cells": [
  {
   "cell_type": "markdown",
   "metadata": {},
   "source": [
    "\n",
    "# Проведение А/В - тестирования для интернет магазина.\n",
    "\n",
    "**Контекст:**\n",
    "В проекте имитируется ситуация аналитики для крупного интернет-магазина.\n",
    "Вместе с отделом маркетинга вы подготовили список гипотез для увеличения выручки.\n",
    "\n",
    "**Задачи:**\n",
    "\n",
    " - Приоритизировать гипотезы\n",
    " - Запустить A/B-тест\n",
    " - Проанализировать результаты"
   ]
  },
  {
   "cell_type": "markdown",
   "metadata": {},
   "source": [
    "# Приоритизация гипотез\n",
    "\n",
    "## Задача:\n",
    "- Примените фреймворк ICE для приоритизации гипотез. Отсортируйте их по убыванию приоритета.\n",
    "- Примените фреймворк RICE для приоритизации гипотез. Отсортируйте их по убыванию приоритета.\n",
    "- Укажите, как изменилась приоритизация гипотез при применении RICE вместо ICE. Объясните, почему так произошло."
   ]
  },
  {
   "cell_type": "markdown",
   "metadata": {},
   "source": [
    "## Обзор данных\n",
    "\n",
    "В таблице `hypothesis` представленно 9 гипотез для развития бизнеса. \n",
    "Для каждой гипотезы есть оценка по 10-ти бальной шкале показателей\n",
    "- охвата `reach`\n",
    "- велечины оказываемого влияния `impact`\n",
    "- уверенности в оценке `confidence`\n",
    "- трудоемковсть выполнения `efforts`\n",
    "\n",
    "Используем фреймворки ICE и RICE для выбора наиболее преоритетных гипотез."
   ]
  },
  {
   "cell_type": "code",
   "execution_count": 1,
   "metadata": {},
   "outputs": [],
   "source": [
    "import pandas as pd\n",
    "pd.options.display.max_colwidth = 120\n",
    "import datetime as dt\n",
    "import numpy as np\n",
    "import matplotlib.pyplot as plt\n",
    "import scipy.stats as stats\n"
   ]
  },
  {
   "cell_type": "code",
   "execution_count": 2,
   "metadata": {},
   "outputs": [
    {
     "data": {
      "text/html": [
       "<div>\n",
       "<style scoped>\n",
       "    .dataframe tbody tr th:only-of-type {\n",
       "        vertical-align: middle;\n",
       "    }\n",
       "\n",
       "    .dataframe tbody tr th {\n",
       "        vertical-align: top;\n",
       "    }\n",
       "\n",
       "    .dataframe thead th {\n",
       "        text-align: right;\n",
       "    }\n",
       "</style>\n",
       "<table border=\"1\" class=\"dataframe\">\n",
       "  <thead>\n",
       "    <tr style=\"text-align: right;\">\n",
       "      <th></th>\n",
       "      <th>Hypothesis</th>\n",
       "      <th>Reach</th>\n",
       "      <th>Impact</th>\n",
       "      <th>Confidence</th>\n",
       "      <th>Efforts</th>\n",
       "    </tr>\n",
       "  </thead>\n",
       "  <tbody>\n",
       "    <tr>\n",
       "      <td>0</td>\n",
       "      <td>Добавить два новых канала привлечения трафика, что позволит привлекать на 30% больше пользователей</td>\n",
       "      <td>3</td>\n",
       "      <td>10</td>\n",
       "      <td>8</td>\n",
       "      <td>6</td>\n",
       "    </tr>\n",
       "    <tr>\n",
       "      <td>1</td>\n",
       "      <td>Запустить собственную службу доставки, что сократит срок доставки заказов</td>\n",
       "      <td>2</td>\n",
       "      <td>5</td>\n",
       "      <td>4</td>\n",
       "      <td>10</td>\n",
       "    </tr>\n",
       "    <tr>\n",
       "      <td>2</td>\n",
       "      <td>Добавить блоки рекомендаций товаров на сайт интернет магазина, чтобы повысить конверсию и средний чек заказа</td>\n",
       "      <td>8</td>\n",
       "      <td>3</td>\n",
       "      <td>7</td>\n",
       "      <td>3</td>\n",
       "    </tr>\n",
       "    <tr>\n",
       "      <td>3</td>\n",
       "      <td>Изменить структура категорий, что увеличит конверсию, т.к. пользователи быстрее найдут нужный товар</td>\n",
       "      <td>8</td>\n",
       "      <td>3</td>\n",
       "      <td>3</td>\n",
       "      <td>8</td>\n",
       "    </tr>\n",
       "    <tr>\n",
       "      <td>4</td>\n",
       "      <td>Изменить цвет фона главной страницы, чтобы увеличить вовлеченность пользователей</td>\n",
       "      <td>3</td>\n",
       "      <td>1</td>\n",
       "      <td>1</td>\n",
       "      <td>1</td>\n",
       "    </tr>\n",
       "    <tr>\n",
       "      <td>5</td>\n",
       "      <td>Добавить страницу отзывов клиентов о магазине, что позволит увеличить количество заказов</td>\n",
       "      <td>3</td>\n",
       "      <td>2</td>\n",
       "      <td>2</td>\n",
       "      <td>3</td>\n",
       "    </tr>\n",
       "    <tr>\n",
       "      <td>6</td>\n",
       "      <td>Показать на главной странице баннеры с актуальными акциями и распродажами, чтобы увеличить конверсию</td>\n",
       "      <td>5</td>\n",
       "      <td>3</td>\n",
       "      <td>8</td>\n",
       "      <td>3</td>\n",
       "    </tr>\n",
       "    <tr>\n",
       "      <td>7</td>\n",
       "      <td>Добавить форму подписки на все основные страницы, чтобы собрать базу клиентов для email-рассылок</td>\n",
       "      <td>10</td>\n",
       "      <td>7</td>\n",
       "      <td>8</td>\n",
       "      <td>5</td>\n",
       "    </tr>\n",
       "    <tr>\n",
       "      <td>8</td>\n",
       "      <td>Запустить акцию, дающую скидку на товар в день рождения</td>\n",
       "      <td>1</td>\n",
       "      <td>9</td>\n",
       "      <td>9</td>\n",
       "      <td>5</td>\n",
       "    </tr>\n",
       "  </tbody>\n",
       "</table>\n",
       "</div>"
      ],
      "text/plain": [
       "                                                                                                     Hypothesis  \\\n",
       "0            Добавить два новых канала привлечения трафика, что позволит привлекать на 30% больше пользователей   \n",
       "1                                     Запустить собственную службу доставки, что сократит срок доставки заказов   \n",
       "2  Добавить блоки рекомендаций товаров на сайт интернет магазина, чтобы повысить конверсию и средний чек заказа   \n",
       "3           Изменить структура категорий, что увеличит конверсию, т.к. пользователи быстрее найдут нужный товар   \n",
       "4                              Изменить цвет фона главной страницы, чтобы увеличить вовлеченность пользователей   \n",
       "5                      Добавить страницу отзывов клиентов о магазине, что позволит увеличить количество заказов   \n",
       "6          Показать на главной странице баннеры с актуальными акциями и распродажами, чтобы увеличить конверсию   \n",
       "7              Добавить форму подписки на все основные страницы, чтобы собрать базу клиентов для email-рассылок   \n",
       "8                                                       Запустить акцию, дающую скидку на товар в день рождения   \n",
       "\n",
       "   Reach  Impact  Confidence  Efforts  \n",
       "0      3      10           8        6  \n",
       "1      2       5           4       10  \n",
       "2      8       3           7        3  \n",
       "3      8       3           3        8  \n",
       "4      3       1           1        1  \n",
       "5      3       2           2        3  \n",
       "6      5       3           8        3  \n",
       "7     10       7           8        5  \n",
       "8      1       9           9        5  "
      ]
     },
     "metadata": {},
     "output_type": "display_data"
    }
   ],
   "source": [
    "hypothesis = pd.read_csv('/datasets/hypothesis.csv')\n",
    "display(hypothesis.head(10))"
   ]
  },
  {
   "cell_type": "code",
   "execution_count": 3,
   "metadata": {},
   "outputs": [
    {
     "data": {
      "text/html": [
       "<div>\n",
       "<style scoped>\n",
       "    .dataframe tbody tr th:only-of-type {\n",
       "        vertical-align: middle;\n",
       "    }\n",
       "\n",
       "    .dataframe tbody tr th {\n",
       "        vertical-align: top;\n",
       "    }\n",
       "\n",
       "    .dataframe thead th {\n",
       "        text-align: right;\n",
       "    }\n",
       "</style>\n",
       "<table border=\"1\" class=\"dataframe\">\n",
       "  <thead>\n",
       "    <tr style=\"text-align: right;\">\n",
       "      <th></th>\n",
       "      <th>Hypothesis</th>\n",
       "      <th>ICE</th>\n",
       "    </tr>\n",
       "  </thead>\n",
       "  <tbody>\n",
       "    <tr>\n",
       "      <td>8</td>\n",
       "      <td>Запустить акцию, дающую скидку на товар в день рождения</td>\n",
       "      <td>16.20</td>\n",
       "    </tr>\n",
       "    <tr>\n",
       "      <td>0</td>\n",
       "      <td>Добавить два новых канала привлечения трафика, что позволит привлекать на 30% больше пользователей</td>\n",
       "      <td>13.33</td>\n",
       "    </tr>\n",
       "    <tr>\n",
       "      <td>7</td>\n",
       "      <td>Добавить форму подписки на все основные страницы, чтобы собрать базу клиентов для email-рассылок</td>\n",
       "      <td>11.20</td>\n",
       "    </tr>\n",
       "    <tr>\n",
       "      <td>6</td>\n",
       "      <td>Показать на главной странице баннеры с актуальными акциями и распродажами, чтобы увеличить конверсию</td>\n",
       "      <td>8.00</td>\n",
       "    </tr>\n",
       "    <tr>\n",
       "      <td>2</td>\n",
       "      <td>Добавить блоки рекомендаций товаров на сайт интернет магазина, чтобы повысить конверсию и средний чек заказа</td>\n",
       "      <td>7.00</td>\n",
       "    </tr>\n",
       "  </tbody>\n",
       "</table>\n",
       "</div>"
      ],
      "text/plain": [
       "                                                                                                     Hypothesis  \\\n",
       "8                                                       Запустить акцию, дающую скидку на товар в день рождения   \n",
       "0            Добавить два новых канала привлечения трафика, что позволит привлекать на 30% больше пользователей   \n",
       "7              Добавить форму подписки на все основные страницы, чтобы собрать базу клиентов для email-рассылок   \n",
       "6          Показать на главной странице баннеры с актуальными акциями и распродажами, чтобы увеличить конверсию   \n",
       "2  Добавить блоки рекомендаций товаров на сайт интернет магазина, чтобы повысить конверсию и средний чек заказа   \n",
       "\n",
       "     ICE  \n",
       "8  16.20  \n",
       "0  13.33  \n",
       "7  11.20  \n",
       "6   8.00  \n",
       "2   7.00  "
      ]
     },
     "metadata": {},
     "output_type": "display_data"
    },
    {
     "data": {
      "text/html": [
       "<div>\n",
       "<style scoped>\n",
       "    .dataframe tbody tr th:only-of-type {\n",
       "        vertical-align: middle;\n",
       "    }\n",
       "\n",
       "    .dataframe tbody tr th {\n",
       "        vertical-align: top;\n",
       "    }\n",
       "\n",
       "    .dataframe thead th {\n",
       "        text-align: right;\n",
       "    }\n",
       "</style>\n",
       "<table border=\"1\" class=\"dataframe\">\n",
       "  <thead>\n",
       "    <tr style=\"text-align: right;\">\n",
       "      <th></th>\n",
       "      <th>Hypothesis</th>\n",
       "      <th>RICE</th>\n",
       "    </tr>\n",
       "  </thead>\n",
       "  <tbody>\n",
       "    <tr>\n",
       "      <td>7</td>\n",
       "      <td>Добавить форму подписки на все основные страницы, чтобы собрать базу клиентов для email-рассылок</td>\n",
       "      <td>112.0</td>\n",
       "    </tr>\n",
       "    <tr>\n",
       "      <td>2</td>\n",
       "      <td>Добавить блоки рекомендаций товаров на сайт интернет магазина, чтобы повысить конверсию и средний чек заказа</td>\n",
       "      <td>56.0</td>\n",
       "    </tr>\n",
       "    <tr>\n",
       "      <td>0</td>\n",
       "      <td>Добавить два новых канала привлечения трафика, что позволит привлекать на 30% больше пользователей</td>\n",
       "      <td>40.0</td>\n",
       "    </tr>\n",
       "    <tr>\n",
       "      <td>6</td>\n",
       "      <td>Показать на главной странице баннеры с актуальными акциями и распродажами, чтобы увеличить конверсию</td>\n",
       "      <td>40.0</td>\n",
       "    </tr>\n",
       "    <tr>\n",
       "      <td>8</td>\n",
       "      <td>Запустить акцию, дающую скидку на товар в день рождения</td>\n",
       "      <td>16.2</td>\n",
       "    </tr>\n",
       "  </tbody>\n",
       "</table>\n",
       "</div>"
      ],
      "text/plain": [
       "                                                                                                     Hypothesis  \\\n",
       "7              Добавить форму подписки на все основные страницы, чтобы собрать базу клиентов для email-рассылок   \n",
       "2  Добавить блоки рекомендаций товаров на сайт интернет магазина, чтобы повысить конверсию и средний чек заказа   \n",
       "0            Добавить два новых канала привлечения трафика, что позволит привлекать на 30% больше пользователей   \n",
       "6          Показать на главной странице баннеры с актуальными акциями и распродажами, чтобы увеличить конверсию   \n",
       "8                                                       Запустить акцию, дающую скидку на товар в день рождения   \n",
       "\n",
       "    RICE  \n",
       "7  112.0  \n",
       "2   56.0  \n",
       "0   40.0  \n",
       "6   40.0  \n",
       "8   16.2  "
      ]
     },
     "metadata": {},
     "output_type": "display_data"
    }
   ],
   "source": [
    "hypothesis['ICE'] = hypothesis['Impact'] * hypothesis['Confidence'] / hypothesis['Efforts'] \n",
    "display(hypothesis[['Hypothesis','ICE']].sort_values(by='ICE', ascending=False).round(2).head(5))\n",
    "\n",
    "hypothesis['RICE'] = hypothesis['Reach'] * hypothesis['Impact'] * hypothesis['Confidence'] / hypothesis['Efforts'] \n",
    "display(hypothesis[['Hypothesis','RICE']].sort_values(by='RICE', ascending=False).round(2).head(5))"
   ]
  },
  {
   "cell_type": "markdown",
   "metadata": {},
   "source": [
    "## Выводы\n",
    "\n",
    "- В топ-5 после использования разных фреймворков оказались гипотезы 0, 2, 6, 7, 8. \n",
    "- Однако выраженность приоритета гипотез разная у разных фреймворков. Это связано с добавлением дополнительного фактора (охвата) в расчетах. Гипотеза 8, наиболее приоритетная по ICE имеет наименьший охват и получает значительно меньшую оценку по RICE. \n",
    "- Выбор между оценками ICE и RICE в конкретных ситуациях будет зависить от актуальных целей развития и охватов продукта.\n",
    "- Выбирая гипотезы для дальнейшей разработки в данном случае стоит выбрать гипотезы \n",
    "  - №7 (на 5 пунктов слабее наиболее важной по ICE, и в два раза более приоритетная чем 2 место по RICE. Имеет наибольший охват\n",
    "  - №0 По результатам работы обоих фреймворков находится в топ-3. Оказывает наибольшее влияние на пользователей."
   ]
  },
  {
   "cell_type": "markdown",
   "metadata": {},
   "source": [
    "# Анализ A/B-теста\n",
    "\n",
    "### Задачи:\n",
    " - Оценка выручки, среднего чека и конверсии по группам\n",
    " - Оценка выбросов\n",
    " - Предварительная оценка различий в группах по среднему чеку и конверсии \n",
    " - Фильтрация результатов теста в группах А и В, оценка различий по очищенным данным\n",
    " - Вывод и принятие решения"
   ]
  },
  {
   "cell_type": "markdown",
   "metadata": {},
   "source": [
    "### Обзор и подготовка данных\n",
    "\n",
    "В таблице `orders` представленна информация о заказах из интернет-магазина. Не содержит полных дубликатов или пропусков, необходима замена данных о дате заказа.\n",
    "\n",
    " - transactionId — идентификатор заказа;\n",
    " - visitorId — идентификатор пользователя, совершившего заказ;\n",
    " - date — дата, когда был совершён заказ;\n",
    " - revenue — выручка заказа;\n",
    " - group — группа A/B-теста, в которую попал заказ.\n",
    " \n",
    "В таблице `visitors` данные о посетителях интернет-магазина.Не содержит полных дубликатов или пропусков, необходима замена данных о дате визита.\n",
    " - date — дата;\n",
    " - group — группа A/B-теста;\n",
    " - visitors — количество пользователей в указанную дату в указанной группе A/B-теста"
   ]
  },
  {
   "cell_type": "code",
   "execution_count": 4,
   "metadata": {},
   "outputs": [],
   "source": [
    "orders = pd.read_csv('/datasets/orders.csv')\n",
    "visitors = pd.read_csv('/datasets/visitors.csv')\n",
    "\n",
    "def overview(data):\n",
    "    display(data.head())\n",
    "    display(data.info())\n",
    "    print('Пропуски в данных:')\n",
    "    print(data.isnull().sum())\n",
    "    print('Полностью дублированных строк:')\n",
    "    print(data.duplicated().sum())"
   ]
  },
  {
   "cell_type": "code",
   "execution_count": 5,
   "metadata": {},
   "outputs": [
    {
     "data": {
      "text/html": [
       "<div>\n",
       "<style scoped>\n",
       "    .dataframe tbody tr th:only-of-type {\n",
       "        vertical-align: middle;\n",
       "    }\n",
       "\n",
       "    .dataframe tbody tr th {\n",
       "        vertical-align: top;\n",
       "    }\n",
       "\n",
       "    .dataframe thead th {\n",
       "        text-align: right;\n",
       "    }\n",
       "</style>\n",
       "<table border=\"1\" class=\"dataframe\">\n",
       "  <thead>\n",
       "    <tr style=\"text-align: right;\">\n",
       "      <th></th>\n",
       "      <th>transactionId</th>\n",
       "      <th>visitorId</th>\n",
       "      <th>date</th>\n",
       "      <th>revenue</th>\n",
       "      <th>group</th>\n",
       "    </tr>\n",
       "  </thead>\n",
       "  <tbody>\n",
       "    <tr>\n",
       "      <td>0</td>\n",
       "      <td>3667963787</td>\n",
       "      <td>3312258926</td>\n",
       "      <td>2019-08-15</td>\n",
       "      <td>1650</td>\n",
       "      <td>B</td>\n",
       "    </tr>\n",
       "    <tr>\n",
       "      <td>1</td>\n",
       "      <td>2804400009</td>\n",
       "      <td>3642806036</td>\n",
       "      <td>2019-08-15</td>\n",
       "      <td>730</td>\n",
       "      <td>B</td>\n",
       "    </tr>\n",
       "    <tr>\n",
       "      <td>2</td>\n",
       "      <td>2961555356</td>\n",
       "      <td>4069496402</td>\n",
       "      <td>2019-08-15</td>\n",
       "      <td>400</td>\n",
       "      <td>A</td>\n",
       "    </tr>\n",
       "    <tr>\n",
       "      <td>3</td>\n",
       "      <td>3797467345</td>\n",
       "      <td>1196621759</td>\n",
       "      <td>2019-08-15</td>\n",
       "      <td>9759</td>\n",
       "      <td>B</td>\n",
       "    </tr>\n",
       "    <tr>\n",
       "      <td>4</td>\n",
       "      <td>2282983706</td>\n",
       "      <td>2322279887</td>\n",
       "      <td>2019-08-15</td>\n",
       "      <td>2308</td>\n",
       "      <td>B</td>\n",
       "    </tr>\n",
       "  </tbody>\n",
       "</table>\n",
       "</div>"
      ],
      "text/plain": [
       "   transactionId   visitorId        date  revenue group\n",
       "0     3667963787  3312258926  2019-08-15     1650     B\n",
       "1     2804400009  3642806036  2019-08-15      730     B\n",
       "2     2961555356  4069496402  2019-08-15      400     A\n",
       "3     3797467345  1196621759  2019-08-15     9759     B\n",
       "4     2282983706  2322279887  2019-08-15     2308     B"
      ]
     },
     "metadata": {},
     "output_type": "display_data"
    },
    {
     "name": "stdout",
     "output_type": "stream",
     "text": [
      "<class 'pandas.core.frame.DataFrame'>\n",
      "RangeIndex: 1197 entries, 0 to 1196\n",
      "Data columns (total 5 columns):\n",
      "transactionId    1197 non-null int64\n",
      "visitorId        1197 non-null int64\n",
      "date             1197 non-null object\n",
      "revenue          1197 non-null int64\n",
      "group            1197 non-null object\n",
      "dtypes: int64(3), object(2)\n",
      "memory usage: 46.9+ KB\n"
     ]
    },
    {
     "data": {
      "text/plain": [
       "None"
      ]
     },
     "metadata": {},
     "output_type": "display_data"
    },
    {
     "name": "stdout",
     "output_type": "stream",
     "text": [
      "Пропуски в данных:\n",
      "transactionId    0\n",
      "visitorId        0\n",
      "date             0\n",
      "revenue          0\n",
      "group            0\n",
      "dtype: int64\n",
      "Полностью дублированных строк:\n",
      "0\n"
     ]
    }
   ],
   "source": [
    "overview(orders)\n"
   ]
  },
  {
   "cell_type": "code",
   "execution_count": 6,
   "metadata": {},
   "outputs": [
    {
     "data": {
      "text/html": [
       "<div>\n",
       "<style scoped>\n",
       "    .dataframe tbody tr th:only-of-type {\n",
       "        vertical-align: middle;\n",
       "    }\n",
       "\n",
       "    .dataframe tbody tr th {\n",
       "        vertical-align: top;\n",
       "    }\n",
       "\n",
       "    .dataframe thead th {\n",
       "        text-align: right;\n",
       "    }\n",
       "</style>\n",
       "<table border=\"1\" class=\"dataframe\">\n",
       "  <thead>\n",
       "    <tr style=\"text-align: right;\">\n",
       "      <th></th>\n",
       "      <th>date</th>\n",
       "      <th>group</th>\n",
       "      <th>visitors</th>\n",
       "    </tr>\n",
       "  </thead>\n",
       "  <tbody>\n",
       "    <tr>\n",
       "      <td>0</td>\n",
       "      <td>2019-08-01</td>\n",
       "      <td>A</td>\n",
       "      <td>719</td>\n",
       "    </tr>\n",
       "    <tr>\n",
       "      <td>1</td>\n",
       "      <td>2019-08-02</td>\n",
       "      <td>A</td>\n",
       "      <td>619</td>\n",
       "    </tr>\n",
       "    <tr>\n",
       "      <td>2</td>\n",
       "      <td>2019-08-03</td>\n",
       "      <td>A</td>\n",
       "      <td>507</td>\n",
       "    </tr>\n",
       "    <tr>\n",
       "      <td>3</td>\n",
       "      <td>2019-08-04</td>\n",
       "      <td>A</td>\n",
       "      <td>717</td>\n",
       "    </tr>\n",
       "    <tr>\n",
       "      <td>4</td>\n",
       "      <td>2019-08-05</td>\n",
       "      <td>A</td>\n",
       "      <td>756</td>\n",
       "    </tr>\n",
       "  </tbody>\n",
       "</table>\n",
       "</div>"
      ],
      "text/plain": [
       "         date group  visitors\n",
       "0  2019-08-01     A       719\n",
       "1  2019-08-02     A       619\n",
       "2  2019-08-03     A       507\n",
       "3  2019-08-04     A       717\n",
       "4  2019-08-05     A       756"
      ]
     },
     "metadata": {},
     "output_type": "display_data"
    },
    {
     "name": "stdout",
     "output_type": "stream",
     "text": [
      "<class 'pandas.core.frame.DataFrame'>\n",
      "RangeIndex: 62 entries, 0 to 61\n",
      "Data columns (total 3 columns):\n",
      "date        62 non-null object\n",
      "group       62 non-null object\n",
      "visitors    62 non-null int64\n",
      "dtypes: int64(1), object(2)\n",
      "memory usage: 1.6+ KB\n"
     ]
    },
    {
     "data": {
      "text/plain": [
       "None"
      ]
     },
     "metadata": {},
     "output_type": "display_data"
    },
    {
     "name": "stdout",
     "output_type": "stream",
     "text": [
      "Пропуски в данных:\n",
      "date        0\n",
      "group       0\n",
      "visitors    0\n",
      "dtype: int64\n",
      "Полностью дублированных строк:\n",
      "0\n"
     ]
    }
   ],
   "source": [
    "overview(visitors)\n"
   ]
  },
  {
   "cell_type": "code",
   "execution_count": 7,
   "metadata": {},
   "outputs": [],
   "source": [
    "orders['date'] = pd.to_datetime(orders['date'])\n",
    "visitors['date'] = pd.to_datetime(visitors['date'])"
   ]
  },
  {
   "cell_type": "markdown",
   "metadata": {},
   "source": [
    "### Вывод по результату предподготовки\n",
    "\n",
    "- В таблицах представленны данные наблюдения проводимого А/В тестирования за 31 день (август 2019 года)\n",
    "- В данных нет пропусков и полных дубликатов\n",
    "- Колонки с данными о датах наблюдений приведены к типу datetime\n",
    "\n",
    "Данные проверены и готовы к дальнейшему анализу.\n"
   ]
  },
  {
   "cell_type": "markdown",
   "metadata": {},
   "source": [
    "## Оценка выручки, среднего чека и конверсии по группам\n",
    "   - Постройте график кумулятивной выручки по группам. Сделайте выводы и предположения.\n",
    "   - Постройте график кумулятивного среднего чека по группам. Сделайте выводы и предположения.\n",
    "   - Постройте график относительного изменения кумулятивного среднего чека группы B к группе A. Сделайте выводы и предположения.\n",
    "   - Постройте график кумулятивной конверсии по группам. Сделайте выводы и предположения.\n",
    "   - Постройте график относительного изменения кумулятивной конверсии группы B к группе A. Сделайте выводы и предположения."
   ]
  },
  {
   "cell_type": "code",
   "execution_count": 8,
   "metadata": {},
   "outputs": [],
   "source": [
    "# список дат проведения теста с группами\n",
    "datesGroups = orders[['date','group']].drop_duplicates()\n",
    "# Агрегированные данные по заказам: на каждую дату кумулятивное количество заказов, покупателей, выручка с указанием группы\n",
    "ordersAggregated = datesGroups.apply(\n",
    "    lambda x: orders[np.logical_and(orders['date'] <= x['date'], orders['group'] == x['group'])]\\\n",
    "    .agg({'date' : 'max', 'group' : 'max', 'transactionId' : 'nunique', 'visitorId' : 'nunique', 'revenue' : 'sum'}),\n",
    "    axis=1).sort_values(by=['date','group'])\n",
    "# На каждую дату количество посетителей с указанием группы\n",
    "visitorsAggregated = datesGroups.apply(\n",
    "    lambda x: visitors[np.logical_and(visitors['date'] <= x['date'], visitors['group'] == x['group'])].agg({'date' : 'max', 'group' : 'max', 'visitors' : 'sum'}),\n",
    "    axis=1).sort_values(by=['date','group'])\n",
    "#display(ordersAggregated.head())\n",
    "#display(visitorsAggregated.head())\n",
    "\n",
    "# сборный датасет с агрегированными данными\n",
    "cumData = ordersAggregated.merge(visitorsAggregated, left_on=['date', 'group'], right_on=['date', 'group']).rename(columns={'transactionId' : 'orders', 'visitorId' : 'buyers'})\n",
    "#cumData.head()"
   ]
  },
  {
   "cell_type": "code",
   "execution_count": 9,
   "metadata": {},
   "outputs": [
    {
     "name": "stderr",
     "output_type": "stream",
     "text": [
      "/opt/conda/lib/python3.7/site-packages/pandas/plotting/_matplotlib/converter.py:103: FutureWarning: Using an implicitly registered datetime converter for a matplotlib plotting method. The converter was registered by pandas on import. Future versions of pandas will require you to explicitly register matplotlib converters.\n",
      "\n",
      "To register the converters:\n",
      "\t>>> from pandas.plotting import register_matplotlib_converters\n",
      "\t>>> register_matplotlib_converters()\n",
      "  warnings.warn(msg, FutureWarning)\n"
     ]
    },
    {
     "data": {
      "image/png": "[encoded data removed]",
      "text/plain": [
       "<Figure size 432x288 with 1 Axes>"
      ]
     },
     "metadata": {
      "needs_background": "light"
     },
     "output_type": "display_data"
    },
    {
     "data": {
      "image/png": "[encoded data removed]",
      "text/plain": [
       "<Figure size 432x288 with 1 Axes>"
      ]
     },
     "metadata": {
      "needs_background": "light"
     },
     "output_type": "display_data"
    }
   ],
   "source": [
    "#сразу расчитаем конверсию\n",
    "cumData['conversion'] = cumData['orders']/cumData['visitors']\n",
    "\n",
    "# разделим на два датасета по группам теста А и В\n",
    "cumDataA = cumData[cumData['group']=='A'][['date', 'revenue', 'orders','conversion']]\n",
    "cumDataB = cumData[cumData['group']=='B'][['date', 'revenue', 'orders','conversion']]\n",
    "\n",
    "\n",
    "plt.plot(cumDataA['date'], cumDataA['revenue'], label='A')\n",
    "plt.plot(cumDataB['date'], cumDataB['revenue'], label='B')\n",
    "plt.title('Кумулятивная выручка по группам') \n",
    "plt.ylabel('Размер выручки')\n",
    "plt.xlabel('Дни проведения теста')\n",
    "plt.xticks(rotation=70) \n",
    "plt.legend()\n",
    "plt.show()\n",
    "\n",
    "plt.plot(cumDataA['date'], cumDataA['revenue']/cumDataA['orders'], label='A')\n",
    "plt.plot(cumDataB['date'], cumDataB['revenue']/cumDataB['orders'], label='B')\n",
    "plt.title('Кумулятивный средний чек по группам') \n",
    "plt.ylabel('Размер среднего чека')\n",
    "plt.xlabel('Дни проведения теста')\n",
    "plt.xticks(rotation=70) \n",
    "plt.legend()\n",
    "plt.show()\n",
    "\n",
    "#не могу понять природу ошибки в нижнем блоке...Делала локально проект, в эту тетрадку просто копировала, локально ошибка не появлялась.."
   ]
  },
  {
   "cell_type": "markdown",
   "metadata": {},
   "source": [
    "**Выручка**\n",
    " - в начале проведения теста выручка в обеих группах была приблизительно равна, но с 17 августа в группе В произошел резкий скачок\n",
    " - Вторую половину теста группа В лидирует по выручке за счет скачка в кусулятивных данных\n",
    "\n",
    "**Средний чек**\n",
    " - В начале теста средний чек в группах колеблется\n",
    " - После 17 августа, когда проишел резкий скачок выручки, наблюдается резкое увеличение среднего чека\n",
    " - После скачка данные не стабилизировались, начался спад\n",
    " \n",
    " Гипотеза: 17 августа было некоторое количество аномально больших заказов, повлиявших на кумулятивные данные"
   ]
  },
  {
   "cell_type": "code",
   "execution_count": 10,
   "metadata": {},
   "outputs": [
    {
     "data": {
      "text/html": [
       "<div>\n",
       "<style scoped>\n",
       "    .dataframe tbody tr th:only-of-type {\n",
       "        vertical-align: middle;\n",
       "    }\n",
       "\n",
       "    .dataframe tbody tr th {\n",
       "        vertical-align: top;\n",
       "    }\n",
       "\n",
       "    .dataframe thead th {\n",
       "        text-align: right;\n",
       "    }\n",
       "</style>\n",
       "<table border=\"1\" class=\"dataframe\">\n",
       "  <thead>\n",
       "    <tr style=\"text-align: right;\">\n",
       "      <th></th>\n",
       "      <th>date</th>\n",
       "      <th>revenueA</th>\n",
       "      <th>ordersA</th>\n",
       "      <th>conversionA</th>\n",
       "      <th>revenueB</th>\n",
       "      <th>ordersB</th>\n",
       "      <th>conversionB</th>\n",
       "    </tr>\n",
       "  </thead>\n",
       "  <tbody>\n",
       "    <tr>\n",
       "      <td>0</td>\n",
       "      <td>2019-08-01</td>\n",
       "      <td>148579</td>\n",
       "      <td>24</td>\n",
       "      <td>0.033380</td>\n",
       "      <td>101217</td>\n",
       "      <td>21</td>\n",
       "      <td>0.029453</td>\n",
       "    </tr>\n",
       "    <tr>\n",
       "      <td>1</td>\n",
       "      <td>2019-08-02</td>\n",
       "      <td>242401</td>\n",
       "      <td>44</td>\n",
       "      <td>0.032885</td>\n",
       "      <td>266748</td>\n",
       "      <td>45</td>\n",
       "      <td>0.034776</td>\n",
       "    </tr>\n",
       "    <tr>\n",
       "      <td>2</td>\n",
       "      <td>2019-08-03</td>\n",
       "      <td>354874</td>\n",
       "      <td>68</td>\n",
       "      <td>0.036856</td>\n",
       "      <td>380996</td>\n",
       "      <td>61</td>\n",
       "      <td>0.033833</td>\n",
       "    </tr>\n",
       "    <tr>\n",
       "      <td>3</td>\n",
       "      <td>2019-08-04</td>\n",
       "      <td>425699</td>\n",
       "      <td>84</td>\n",
       "      <td>0.032787</td>\n",
       "      <td>489567</td>\n",
       "      <td>78</td>\n",
       "      <td>0.030315</td>\n",
       "    </tr>\n",
       "    <tr>\n",
       "      <td>4</td>\n",
       "      <td>2019-08-05</td>\n",
       "      <td>549917</td>\n",
       "      <td>109</td>\n",
       "      <td>0.032851</td>\n",
       "      <td>581995</td>\n",
       "      <td>101</td>\n",
       "      <td>0.030793</td>\n",
       "    </tr>\n",
       "  </tbody>\n",
       "</table>\n",
       "</div>"
      ],
      "text/plain": [
       "        date  revenueA  ordersA  conversionA  revenueB  ordersB  conversionB\n",
       "0 2019-08-01    148579       24     0.033380    101217       21     0.029453\n",
       "1 2019-08-02    242401       44     0.032885    266748       45     0.034776\n",
       "2 2019-08-03    354874       68     0.036856    380996       61     0.033833\n",
       "3 2019-08-04    425699       84     0.032787    489567       78     0.030315\n",
       "4 2019-08-05    549917      109     0.032851    581995      101     0.030793"
      ]
     },
     "metadata": {},
     "output_type": "display_data"
    },
    {
     "data": {
      "image/png": "[encoded data removed]",
      "text/plain": [
       "<Figure size 432x288 with 1 Axes>"
      ]
     },
     "metadata": {
      "needs_background": "light"
     },
     "output_type": "display_data"
    }
   ],
   "source": [
    "cumRevenue = cumDataA.merge(cumDataB, left_on='date', right_on='date', how='left', suffixes=['A', 'B'])\n",
    "display(cumRevenue.head())\n",
    "\n",
    "plt.plot(cumRevenue['date'], (cumRevenue['revenueB']/cumRevenue['ordersB'])/(cumRevenue['revenueA']/cumRevenue['ordersA'])-1)\n",
    "plt.axhline(y=0, color='black', linestyle='--')\n",
    "plt.title('Относительное изменение кум. среднего чека группы В к группе А')\n",
    "plt.xlabel('Дни проведения теста')\n",
    "plt.xticks(rotation=70) \n",
    "plt.show()"
   ]
  },
  {
   "cell_type": "markdown",
   "metadata": {},
   "source": [
    " - Относительные изменения среднего чека в группе В колеблются\n",
    " - К середине месяца средний чек группы В резко падает и становится меньше, чем в группе В\n",
    " - После аномалии 17 августа есть резкий скачок с дальнейшим медленным спадом\n",
    " - Данные не стабилизировались. \n",
    " \n",
    " Относительно группы А в группе В средний чек имеет некоторую тенденцию к снижению "
   ]
  },
  {
   "cell_type": "code",
   "execution_count": 11,
   "metadata": {},
   "outputs": [
    {
     "data": {
      "image/png": "[encoded data removed]",
      "text/plain": [
       "<Figure size 432x288 with 1 Axes>"
      ]
     },
     "metadata": {
      "needs_background": "light"
     },
     "output_type": "display_data"
    }
   ],
   "source": [
    "plt.plot(cumDataA['date'], cumDataA['conversion'], label='A')\n",
    "plt.plot(cumDataB['date'], cumDataB['conversion'], label='B')\n",
    "plt.xticks(rotation=70)\n",
    "plt.title('Кумулятивная конверсия')\n",
    "plt.ylabel('Конверсия')\n",
    "plt.xlabel('Дни проведения теста')\n",
    "plt.legend()\n",
    "plt.show()"
   ]
  },
  {
   "cell_type": "markdown",
   "metadata": {},
   "source": [
    "- В начале тестирования присутствуют колебания конверсии\n",
    "- В 10 числах августа данные начинают стабилизироваться\n",
    "- Конверсия в группе В больше, чем группе А"
   ]
  },
  {
   "cell_type": "code",
   "execution_count": 12,
   "metadata": {},
   "outputs": [
    {
     "data": {
      "image/png": "[encoded data removed]",
      "text/plain": [
       "<Figure size 432x288 with 1 Axes>"
      ]
     },
     "metadata": {
      "needs_background": "light"
     },
     "output_type": "display_data"
    }
   ],
   "source": [
    "CumConversions = cumDataA[['date','conversion']].merge(\n",
    "    cumDataB[['date','conversion']], left_on='date', right_on='date', how='left', suffixes=['A', 'B'])\n",
    "\n",
    "plt.plot(CumConversions['date'], CumConversions['conversionB']/CumConversions['conversionA']-1, label='Конверсия')\n",
    "plt.title('Относительный прирост конверсии группы B от группы A')\n",
    "plt.xlabel('Дни проведения теста')\n",
    "plt.xticks(rotation=70) \n",
    "plt.legend()\n",
    "plt.axhline(y=0, color='black', linestyle='--')\n",
    "plt.axhline(y=-0.1, color='grey', linestyle='--')\n",
    "plt.show()"
   ]
  },
  {
   "cell_type": "markdown",
   "metadata": {},
   "source": [
    "- После флуктуаций в начале теста конверсия в группе В растет и стабилизируется\n",
    "- По оценке графика можно предполагать, что в группе В конверсия может быть на 15-20% больше "
   ]
  },
  {
   "cell_type": "markdown",
   "metadata": {},
   "source": [
    "## Оценка выбросов\n",
    " - Постройте точечный график количества заказов по пользователям. Сделайте выводы и предположения.\n",
    " - Посчитайте 95-й и 99-й перцентили количества заказов на пользователя. Выберите границу для определения аномальных пользователей.\n",
    " - Постройте точечный график стоимостей заказов. Сделайте выводы и предположения.\n",
    " - Посчитайте 95-й и 99-й перцентили стоимости заказов. Выберите границу для определения аномальных заказов."
   ]
  },
  {
   "cell_type": "code",
   "execution_count": 22,
   "metadata": {},
   "outputs": [
    {
     "data": {
      "image/png": "[encoded data removed]",
      "text/plain": [
       "<Figure size 432x288 with 1 Axes>"
      ]
     },
     "metadata": {
      "needs_background": "light"
     },
     "output_type": "display_data"
    },
    {
     "data": {
      "image/png": "[encoded data removed]",
      "text/plain": [
       "<Figure size 432x288 with 1 Axes>"
      ]
     },
     "metadata": {
      "needs_background": "light"
     },
     "output_type": "display_data"
    },
    {
     "data": {
      "image/png": "[encoded data removed]",
      "text/plain": [
       "<Figure size 432x288 with 1 Axes>"
      ]
     },
     "metadata": {
      "needs_background": "light"
     },
     "output_type": "display_data"
    }
   ],
   "source": [
    "#display(orders.head())\n",
    "\n",
    "#\n",
    "y_values = pd.Series(range(0,len(orders['revenue'])))\n",
    "plt.scatter(y_values, orders['revenue'])\n",
    "#plt.ylim(0, 200000)\n",
    "plt.title('Стоимость заказов на одного пользователя')\n",
    "plt.ylabel('Стоимость одного заказа')\n",
    "plt.show()\n",
    "#Есть сверхдорогие заказы дороже 200 тысяч и один даже дороже миллиона, но оставшиеся заказы сливаются в линию ниже 100000\n",
    "\n",
    "\n",
    "#Добавим график с поправкой масштаба\n",
    "plt.scatter(y_values, orders['revenue'])\n",
    "plt.ylim(0, 100000)\n",
    "plt.title('Стоимость заказов на одного пользователя с поправкой масштаба ')\n",
    "plt.ylabel('Стоимость одного заказа')\n",
    "plt.show()\n",
    "\n",
    "orders_per_users = orders.drop(\n",
    "    ['group', 'revenue', 'date'], axis=1).groupby('visitorId', as_index=False).agg({'transactionId' : 'nunique'}).rename(\n",
    "    columns = {'transactionId' : 'orders'})\n",
    "\n",
    "#orders_per_users.head()\n",
    "\n",
    "x_values = pd.Series(range(0,len(orders_per_users)))\n",
    "\n",
    "plt.scatter(x_values, orders_per_users['orders'])\n",
    "plt.title('Кол-во заказов на одного пользователя')\n",
    "plt.ylabel('Кол-во заказов')\n",
    "plt.show()"
   ]
  },
  {
   "cell_type": "markdown",
   "metadata": {},
   "source": [
    "**Стоимость заказа**\n",
    "- На графике по всем данным сложно делать выводы.Можно указать два сверходорогих заказа, остальные данные сливаются\n",
    "- Отсечем эти аномалии с графика изменив масштаб. Видно, что большая часть заказов в основном ниже отметки в 20-25 тысяч \n",
    "\n",
    "**Количество заказов**\n",
    "- Чаще всего покупают 1 или 2 раза, но есть пользователи, совершившие и больше 8 заказов."
   ]
  },
  {
   "cell_type": "code",
   "execution_count": 14,
   "metadata": {},
   "outputs": [
    {
     "name": "stdout",
     "output_type": "stream",
     "text": [
      "95 и 99 перцентили для стоимости заказов: [28000.  58233.2]\n",
      "95 и 99 перцентели для количества заказов на одного пользователя: [2. 4.]\n"
     ]
    }
   ],
   "source": [
    "print('95 и 99 перцентили для стоимости заказов:', np.percentile(orders['revenue'], [95, 99]))\n",
    "print('95 и 99 перцентели для количества заказов на одного пользователя:', np.percentile(orders_per_users['orders'], [95, 99]))\n"
   ]
  },
  {
   "cell_type": "markdown",
   "metadata": {},
   "source": [
    "**Граница аномальных данных**\n",
    "- Примем за выбросы по 5% данных от максимальных.\n",
    "- Таким образом, граница для стоимости заказа будет 28 тысяч, а для количества заказов на пользователя - не больше 2"
   ]
  },
  {
   "cell_type": "markdown",
   "metadata": {},
   "source": [
    "##  Предварительная оценка различий в группах по среднему чеку и конверсии \n",
    "- Посчитайте статистическую значимость различий в конверсии между группами по «сырым» данным. Сделайте выводы и предположения.\n",
    "- Посчитайте статистическую значимость различий в среднем чеке заказа между группами по «сырым» данным. Сделайте выводы и предположения.\n"
   ]
  },
  {
   "cell_type": "markdown",
   "metadata": {},
   "source": [
    "## Гипотезы \n",
    "\n",
    "В тесте для двух несвязанных выборок будем оценивать статистическую значимость между группами U- критерием Манна-Уитни. Проведем оценку различий по следующим показателям:\n",
    "1. Конверсия\n",
    "2. Средний чек.\n",
    "\n",
    "Для каждой проверки будут следующие гипотезы:\n",
    " - H0 Между группами А и В нет различий по оцениваемому показателю.\n",
    " - H1 Между группами А и В есть различия по оцениваемому показателю. \n",
    " \n",
    "При наличии статистически значимых различий их отношения (в какой группе показатель больше) оценивается по относительной разнице этого показателя группы В к группе А."
   ]
  },
  {
   "cell_type": "code",
   "execution_count": 15,
   "metadata": {},
   "outputs": [],
   "source": [
    "# из группы с визитами на сайт создаем список посетителей из групп\n",
    "\n",
    "#visitorsADaily = visitors.query('group == \"A\"').drop(['group'], axis=1).rename(columns = {'visitors' : 'visitorsPerDateA'})\n",
    "#другой способ сборки\n",
    "visitorsADaily = visitors[visitors['group']=='A'][['date', 'visitors']].rename(columns = {'visitors' : 'visitorsPerDateA'})\n",
    "visitorsBDaily = visitors[visitors['group']=='B'][['date', 'visitors']].rename(columns = {'visitors' : 'visitorsPerDateB'})\n",
    "\n",
    "#количество заказов на каждый ID по группам\n",
    "ordersByUsersA = orders[orders['group']=='A'].groupby('visitorId', as_index=False).agg({'transactionId' : 'nunique'})\n",
    "ordersByUsersA.columns = ['userId', 'orders']\n",
    "\n",
    "ordersByUsersB = orders[orders['group']=='B'].groupby('visitorId', as_index=False).agg({'transactionId' : 'nunique'})\n",
    "ordersByUsersB.columns = ['userId', 'orders']\n",
    "\n",
    "# массивы для анализа, где не комбинированны покупатели и посетители (0 заказов)\n",
    "sampleA = pd.concat(\n",
    "    [ordersByUsersA['orders'], \n",
    "     pd.Series(0, index=np.arange(visitorsADaily['visitorsPerDateA'].sum() - len(ordersByUsersA['orders'])),\n",
    "               name='orders')],axis=0)\n",
    "\n",
    "sampleB = pd.concat(\n",
    "    [ordersByUsersB['orders'],\n",
    "     pd.Series(0, index=np.arange(visitorsBDaily['visitorsPerDateB'].sum() - len(ordersByUsersB['orders'])),\n",
    "               name='orders')],axis=0)"
   ]
  },
  {
   "cell_type": "code",
   "execution_count": 16,
   "metadata": {},
   "outputs": [
    {
     "name": "stdout",
     "output_type": "stream",
     "text": [
      "p-value различий в конверсии между группами А и В = 0.008\n",
      "Относительная разница конверсии группы В по отношению к группе А = 13.8%\n"
     ]
    }
   ],
   "source": [
    "print('p-value различий в конверсии между группами А и В =', \"{0:.3f}\".format(stats.mannwhitneyu(sampleA, sampleB)[1]))\n",
    "print('Относительная разница конверсии группы В по отношению к группе А =',\"{0:.1%}\".format(sampleB.mean()/sampleA.mean()-1))"
   ]
  },
  {
   "cell_type": "markdown",
   "metadata": {},
   "source": [
    "**Сырые различия по конверсии**\n",
    "- Между группами есть статистически значимые различия.\n",
    "- Конверсия в группе В больше на 13.8% процентов."
   ]
  },
  {
   "cell_type": "code",
   "execution_count": 17,
   "metadata": {},
   "outputs": [
    {
     "name": "stdout",
     "output_type": "stream",
     "text": [
      "p-value различий в среднем чеке между группами А и В = 0.365\n",
      "Относительная разница среднего чека группы В по отношению к группе А = 25.9%\n"
     ]
    }
   ],
   "source": [
    "print('p-value различий в среднем чеке между группами А и В =',\"{0:.3f}\".format(stats.mannwhitneyu(orders[orders['group']=='A']['revenue'], orders[orders['group']=='B']['revenue'])[1]))\n",
    "print('Относительная разница среднего чека группы В по отношению к группе А =',\"{0:.1%}\".format(orders[orders['group']=='B']['revenue'].mean()/orders[orders['group']=='A']['revenue'].mean()-1))"
   ]
  },
  {
   "cell_type": "markdown",
   "metadata": {},
   "source": [
    "**Средний чек по сырым данным**\n",
    " - Между группами нет значимых различий\n",
    " - Но в сырых данных есть значения о том, что в группе В чек больше на 25%. \n",
    " \n",
    " Так как относительный рост среднего чека на четверть в группе В не считаем статистически значимым, проведем анализ без аномалий. Зафиксированный на графиках скачок 17 августа мог повлиять на этот показатель. Стоит проверить, будут ли группы все еще не различаться без учета сверх-дорогих заказов."
   ]
  },
  {
   "cell_type": "markdown",
   "metadata": {},
   "source": [
    "## Фильтрация результатов теста в группах А и В, оценка различий по очищенным данным\n",
    "- Посчитайте статистическую значимость различий в конверсии между группами по «очищенным» данным. Сделайте выводы и предположения.\n",
    "- Посчитайте статистическую значимость различий в среднем чеке заказа между группами по «очищенным» данным. Сделайте выводы и предположения."
   ]
  },
  {
   "cell_type": "markdown",
   "metadata": {},
   "source": [
    "## Гипотезы \n",
    "\n",
    "На данном этапе проводим перепроверку оценки различий между группами, аналогичную предыдущей, но не учитываем аномальные данные.\n",
    "В тесте для двух несвязанных выборок будем оценивать статистическую значимость между группами U- критерием Манна-Уитни. Проведем оценку различий по следующим показателям:\n",
    "1. Конверсия\n",
    "2. Средний чек.\n",
    "\n",
    "Для каждой проверки будут следующие гипотезы:\n",
    " - H0 Между группами А и В нет различий по оцениваемому показателю.\n",
    " - H1 Между группами А и В есть различия по оцениваемому показателю. \n",
    " \n",
    "При наличии статистически значимых различий их отношения (в какой группе показатель больше) оценивается по относительной разнице этого показателя группы В к группе А."
   ]
  },
  {
   "cell_type": "code",
   "execution_count": 18,
   "metadata": {},
   "outputs": [
    {
     "name": "stdout",
     "output_type": "stream",
     "text": [
      "Количество аномальных пользователей (68,)\n"
     ]
    }
   ],
   "source": [
    "usersWithManyOrders = pd.concat([ordersByUsersA[ordersByUsersA['orders'] > 2]['userId'], ordersByUsersB[ordersByUsersB['orders'] > 4]['userId']], axis = 0)\n",
    "usersWithExpensiveOrders = orders[orders['revenue'] > 28000]['visitorId']\n",
    "abnormalUsers = pd.concat([usersWithManyOrders, usersWithExpensiveOrders], axis = 0).drop_duplicates().sort_values()\n",
    "print('Количество аномальных пользователей', abnormalUsers.shape)"
   ]
  },
  {
   "cell_type": "code",
   "execution_count": 19,
   "metadata": {},
   "outputs": [],
   "source": [
    "sampleAFiltered = pd.concat(\n",
    "    [ordersByUsersA[np.logical_not(ordersByUsersA['userId'].isin(abnormalUsers))]['orders'],\n",
    "     pd.Series(0, index=np.arange(visitorsADaily['visitorsPerDateA'].sum() - len(ordersByUsersA['orders'])),name='orders')],\n",
    "    axis=0)\n",
    "\n",
    "sampleBFiltered = pd.concat(\n",
    "    [ordersByUsersB[np.logical_not(ordersByUsersB['userId'].isin(abnormalUsers))]['orders'],\n",
    "     pd.Series(0, index=np.arange(visitorsBDaily['visitorsPerDateB'].sum() - len(ordersByUsersB['orders'])),name='orders')],\n",
    "    axis=0)"
   ]
  },
  {
   "cell_type": "code",
   "execution_count": 20,
   "metadata": {},
   "outputs": [
    {
     "name": "stdout",
     "output_type": "stream",
     "text": [
      "p-value различий в конверсии между группами А и В (без аномалий) = 0.006\n",
      "Относительная разница в конверсии группы В к А (без аномалий) = 20.4%\n"
     ]
    }
   ],
   "source": [
    "print('p-value различий в конверсии между группами А и В (без аномалий) =', \"{0:.3f}\".format(stats.mannwhitneyu(sampleAFiltered, sampleBFiltered)[1]))\n",
    "print('Относительная разница в конверсии группы В к А (без аномалий) =',\"{0:.1%}\".format(sampleBFiltered.mean()/sampleAFiltered.mean()-1))"
   ]
  },
  {
   "cell_type": "markdown",
   "metadata": {},
   "source": [
    "**Конверсия**\n",
    " - В группе В конверсия все еще статистически значимо больше, чем в группе А\n",
    " - Относительный прирост составляет 20%"
   ]
  },
  {
   "cell_type": "code",
   "execution_count": 21,
   "metadata": {},
   "outputs": [
    {
     "name": "stdout",
     "output_type": "stream",
     "text": [
      "p-value различий в среднем чеке между группами А и В (без аномалий) 0.394\n",
      "Относительная разница среднего чека в группе В к А (без аномалий) -1.7%\n"
     ]
    }
   ],
   "source": [
    "print('p-value различий в среднем чеке между группами А и В (без аномалий)',\"{0:.3f}\".format(stats.mannwhitneyu(\n",
    "    orders[np.logical_and(\n",
    "        orders['group']=='A',\n",
    "        np.logical_not(orders['visitorId'].isin(abnormalUsers)))]['revenue'],\n",
    "    orders[np.logical_and(\n",
    "        orders['group']=='B',\n",
    "        np.logical_not(orders['visitorId'].isin(abnormalUsers)))]['revenue'])[1]))\n",
    "\n",
    "print('Относительная разница среднего чека в группе В к А (без аномалий)',\"{0:.1%}\".format(\n",
    "    orders[np.logical_and(orders['group']=='B',np.logical_not(orders['visitorId'].isin(abnormalUsers)))]['revenue'].mean()/\n",
    "    orders[np.logical_and(\n",
    "        orders['group']=='A',\n",
    "        np.logical_not(orders['visitorId'].isin(abnormalUsers)))]['revenue'].mean() - 1))"
   ]
  },
  {
   "cell_type": "markdown",
   "metadata": {},
   "source": [
    "**Средний чек**\n",
    "- После удаления из данных аномально дорогих заказов относительная разница среднего чека уменьшилась, хотя по сырым данным в группе В чек был на 25% процентов больше\n",
    "- Таким образом, относительный прирост в 25% от группы А был обусловлен 5% сверхдорогих заказов, случившихся предположительно 17 августа\n",
    "- По среднему чеку в группах А и В нет статистических различий"
   ]
  },
  {
   "cell_type": "markdown",
   "metadata": {},
   "source": [
    "# Вывод и принятие решения по результатам тестирования\n",
    "   \n",
    "   - Конверсия в группе В значимо больше, чем в группе А\n",
    "     -  условия, представленные группе В значимо увеличивают конверсию, способствуют совершению заказа.\n",
    "   - По среднему чеку значимых различий не зафиксировано\n",
    "   - Средний чек в группе В не успел стабилизироваться из-за аномалий, возникших в середине тестирования\n",
    "   \n",
    "### Тест следует прожолжить.\n",
    " - Дать возможность среднему чеку стабилизироваться в группах\n",
    " - Не смотря на имеющиеся выводы о конверсии в группах, это возможность проверить в долгосрочной перспективе бОльшую конверсию группы В - останутся ли показатели на том же уровне, или сработал некий фактор новизны\n",
    "  "
   ]
  },
  {
   "cell_type": "markdown",
   "metadata": {},
   "source": [
    "# Общий вывод\n",
    "\n",
    "В работе была проведена приоритезация 9-тигипотез для дальнейшего тестирования.\n",
    "\n",
    " - Были применены фреймворки ICE и RICE.\n",
    " - Фреймворки по разному ранжируют приоритет гипотезы из-за особенностей расчета оценки.\n",
    " - RICE выделяет наиболее приоритетные гипотезы с учетом охвата пользователей, которых затронет изменение.\n",
    " - Выбор решающей системы оценки гипотез зависит от целей компании на данный момент и особенностей бизнеса. Для каждой системы выделены топ-3 приоритетных гипотез.\n",
    " - Выбирая гипотезы сбалансированно между фреймворками ICE и RICE для дальнейшей работы подходят гипотезы № 7 или № 0.\n",
    " \n",
    "Анализ результатов проведенного А/В тестирования.\n",
    "1. Расчет кумулятивных показателей.\n",
    "   - Конверсия в группах стабилизировалась, на графиках виден больший рост конверсии в группе В. График относительных изменений подтверждает это.\n",
    "   - Выручка и средний чек соответственно не стабилизировались до конца. По графикам можно говорить о росте показателей для группы В, но так же видна серьезная аномалия, произошедшая в середине тестирования. Этот фактор надо учитывать, как способный исказить результаты.\n",
    "   \n",
    "   \n",
    "2. Сравнение выбранных метрик (конверси и средний чек) в группах\n",
    "   - Разница между группами по конверсии статистически значимая, в группе В конверсия на 14% больше.\n",
    "   - Разница в отношении среднего чека статистически незначимая, ни одна из групп не заработала \"больше\" за оцениваемый период, хотя расчет относительных различий показывает, что в группе В средний чек больше на 25%. Необходим анализ аномалий.\n",
    "   \n",
    "   \n",
    "3. Анализ аномальных значений в данных.\n",
    "   - На графиках рассеивания заметно некоторое количество точек-аномалий, небольшого количества сверхбольших значений для выбранных метрик. Это как слишком большое количество заказов на одного покупателя, так и сверхдорогие заказы. Для обеих метрик аномалии могли повлиять на расчет различий.\n",
    "   - После выделения перцентелей для обеих метрик мы отсекли по 5% самых данных.\n",
    "   \n",
    "   \n",
    "4. Сравнение метрик в очищенных данных.\n",
    "   - После очистки данных конверсия в группах статистически отличается. Расчет относительных показателей показывает, что в группе В конверсия на 20% больше.\n",
    "   - В отношении среднего чека все еще нет значимых различий, а относительные показатели стали показывать, что группа Б заработала на 1.7% меньше без учета сверхдорогих заказов.\n",
    "   \n",
    "   \n",
    "Тест необходимо продолжать, для стабилизации показателей среднего чека и выручки."
   ]
  }
 ],
 "metadata": {
  "kernelspec": {
   "display_name": "Python 3",
   "language": "python",
   "name": "python3"
  },
  "language_info": {
   "codemirror_mode": {
    "name": "ipython",
    "version": 3
   },
   "file_extension": ".py",
   "mimetype": "text/x-python",
   "name": "python",
   "nbconvert_exporter": "python",
   "pygments_lexer": "ipython3",
   "version": "3.7.6"
  }
 },
 "nbformat": 4,
 "nbformat_minor": 2
}
